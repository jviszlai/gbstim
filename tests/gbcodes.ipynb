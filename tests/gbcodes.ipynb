{
 "cells": [
  {
   "cell_type": "code",
   "execution_count": 1,
   "metadata": {},
   "outputs": [],
   "source": [
    "from gbstim.gb import GBCode\n",
    "from gbstim.device import Device\n",
    "from gbstim.bposd import BPOSD\n",
    "import sinter\n",
    "import matplotlib.pyplot as plt\n",
    "import numpy as np"
   ]
  },
  {
   "cell_type": "code",
   "execution_count": 2,
   "metadata": {},
   "outputs": [
    {
     "name": "stdout",
     "output_type": "stream",
     "text": [
      "[72, 12, 6]\n"
     ]
    }
   ],
   "source": [
    "l = 6\n",
    "m = 6\n",
    "device = Device((2*m, 2*l))\n",
    "code = GBCode(device, [(0, 2), (0, 1), (3, 0)], [(1, 0), (2, 0), (0, 3)], l, m)\n",
    "print(f'[{code.n}, {code.k}, {code.d}]')"
   ]
  },
  {
   "cell_type": "code",
   "execution_count": 3,
   "metadata": {},
   "outputs": [
    {
     "data": {
      "text/plain": [
       "z@0   |d1@0  |z@6   |d1@6  |z@12  |d1@12 |z@18  |d1@18 |z@24  |d1@24 |z@30  |d1@30 |\n",
       "------------------------------------------------------------------------------------------------\n",
       "d2@0  |x@0   |d2@6  |x@6   |d2@12 |x@12  |d2@18 |x@18  |d2@24 |x@24  |d2@30 |x@30  |\n",
       "------------------------------------------------------------------------------------------------\n",
       "z@1   |d1@1  |z@7   |d1@7  |z@13  |d1@13 |z@19  |d1@19 |z@25  |d1@25 |z@31  |d1@31 |\n",
       "------------------------------------------------------------------------------------------------\n",
       "d2@1  |x@1   |d2@7  |x@7   |d2@13 |x@13  |d2@19 |x@19  |d2@25 |x@25  |d2@31 |x@31  |\n",
       "------------------------------------------------------------------------------------------------\n",
       "z@2   |d1@2  |z@8   |d1@8  |z@14  |d1@14 |z@20  |d1@20 |z@26  |d1@26 |z@32  |d1@32 |\n",
       "------------------------------------------------------------------------------------------------\n",
       "d2@2  |x@2   |d2@8  |x@8   |d2@14 |x@14  |d2@20 |x@20  |d2@26 |x@26  |d2@32 |x@32  |\n",
       "------------------------------------------------------------------------------------------------\n",
       "z@3   |d1@3  |z@9   |d1@9  |z@15  |d1@15 |z@21  |d1@21 |z@27  |d1@27 |z@33  |d1@33 |\n",
       "------------------------------------------------------------------------------------------------\n",
       "d2@3  |x@3   |d2@9  |x@9   |d2@15 |x@15  |d2@21 |x@21  |d2@27 |x@27  |d2@33 |x@33  |\n",
       "------------------------------------------------------------------------------------------------\n",
       "z@4   |d1@4  |z@10  |d1@10 |z@16  |d1@16 |z@22  |d1@22 |z@28  |d1@28 |z@34  |d1@34 |\n",
       "------------------------------------------------------------------------------------------------\n",
       "d2@4  |x@4   |d2@10 |x@10  |d2@16 |x@16  |d2@22 |x@22  |d2@28 |x@28  |d2@34 |x@34  |\n",
       "------------------------------------------------------------------------------------------------\n",
       "z@5   |d1@5  |z@11  |d1@11 |z@17  |d1@17 |z@23  |d1@23 |z@29  |d1@29 |z@35  |d1@35 |\n",
       "------------------------------------------------------------------------------------------------\n",
       "d2@5  |x@5   |d2@11 |x@11  |d2@17 |x@17  |d2@23 |x@23  |d2@29 |x@29  |d2@35 |x@35  |\n",
       "------------------------------------------------------------------------------------------------"
      ]
     },
     "metadata": {},
     "output_type": "display_data"
    }
   ],
   "source": [
    "display(device)"
   ]
  },
  {
   "cell_type": "code",
   "execution_count": 5,
   "metadata": {},
   "outputs": [],
   "source": [
    "'''\n",
    "Apologies in advance as this is pretty tedious and unsatisfying to specify\n",
    "\n",
    "Specifying stabilizer order. Each group of 4 indicates a stabilizer step: 0: no periodicity, 1: horizontal periodicity, 2: vertical periodicity, 3: horizontal&vertical periodicity\n",
    "0-3 Z-B_poly-0\n",
    "4-7 Z-B_poly-1\n",
    "8-11 Z-B_poly-2\n",
    "12-15 Z-A_poly-0\n",
    "16-19 Z-A_poly-1\n",
    "20-23 Z-A_poly-2\n",
    "24-27 X-A_poly-0\n",
    "28-31 X-A_poly-1\n",
    "32-35 X-A_poly-2\n",
    "36-39 X-B_poly-0\n",
    "40-43 X-B_poly-1\n",
    "44-47 X-B_poly-2\n",
    "\n",
    "Example construction for [72,12,6] code.\n",
    "'''\n",
    "ms_perm  = [24, 28, 36, 32, 44, 40] # no periodic X stabilizer\n",
    "ms_perm += [38, 30, 26, 41, 45, 33] # periodic X stabilizer\n",
    "ms_perm += [12, 16, 0, 20, 8, 4] # no periodic Z stabilizer\n",
    "ms_perm += [2, 18, 14, 5, 9, 21] # periodic Z stabilizer\n",
    "# Append unused indices\n",
    "for i in np.arange(0, 48):\n",
    "    if i not in ms_perm:\n",
    "        ms_perm.append(i)"
   ]
  },
  {
   "cell_type": "code",
   "execution_count": 6,
   "metadata": {},
   "outputs": [],
   "source": [
    "circ = code.stim_circ(num_rounds=code.d, ms_perm=ms_perm)"
   ]
  },
  {
   "cell_type": "code",
   "execution_count": 7,
   "metadata": {},
   "outputs": [
    {
     "data": {
      "text/plain": [
       "3398.494950708319"
      ]
     },
     "execution_count": 7,
     "metadata": {},
     "output_type": "execute_result"
    }
   ],
   "source": [
    "code.stab_move_time"
   ]
  },
  {
   "cell_type": "code",
   "execution_count": 8,
   "metadata": {},
   "outputs": [],
   "source": [
    "tasks = []\n",
    "p_range = [1e-3, 2e-3, 3e-3, 4e-3, 5e-3]\n",
    "for p in p_range:\n",
    "    tasks.append(sinter.Task(circuit=code.stim_circ(p, p, p, dec_type='Z', num_rounds=code.d), \n",
    "                                 json_metadata={'p': p, \n",
    "                                                'Code': f'[{code.n}, {code.k}, {code.d}] Weight {6}'}))"
   ]
  },
  {
   "cell_type": "code",
   "execution_count": 9,
   "metadata": {},
   "outputs": [],
   "source": [
    "samples = sinter.collect(\n",
    "    num_workers=4,\n",
    "    max_shots=1_000_000,\n",
    "    max_errors=100,\n",
    "    tasks=tasks,\n",
    "    decoders=['bposd'],\n",
    "    custom_decoders={'bposd': BPOSD(max_iter=10_000, bp_method=\"ms\", osd_order=10, osd_method=\"osd_cs\")}\n",
    ")"
   ]
  },
  {
   "cell_type": "code",
   "execution_count": 10,
   "metadata": {},
   "outputs": [],
   "source": [
    "err_rates = [0 for _ in p_range]\n",
    "for sample in samples:\n",
    "    p = sample.json_metadata['p']\n",
    "    err_rates[p_range.index(p)] = 1 - (1 - (sample.errors / sample.shots))**(1/code.d)"
   ]
  },
  {
   "cell_type": "code",
   "execution_count": 11,
   "metadata": {},
   "outputs": [
    {
     "data": {
      "image/png": "[encoded data removed]",
      "text/plain": [
       "<Figure size 640x480 with 1 Axes>"
      ]
     },
     "metadata": {},
     "output_type": "display_data"
    }
   ],
   "source": [
    "plt.plot(p_range, err_rates, marker='.')\n",
    "plt.loglog()\n",
    "plt.grid(which='both')\n",
    "plt.title('[72,12,6] Performance')\n",
    "plt.ylabel('Logical Error Rate Per Round')\n",
    "plt.xlabel('Physical Error Rate')\n",
    "plt.show()"
   ]
  },
  {
   "cell_type": "code",
   "execution_count": null,
   "metadata": {},
   "outputs": [],
   "source": []
  }
 ],
 "metadata": {
  "kernelspec": {
   "display_name": "error_correction",
   "language": "python",
   "name": "python3"
  },
  "language_info": {
   "codemirror_mode": {
    "name": "ipython",
    "version": 3
   },
   "file_extension": ".py",
   "mimetype": "text/x-python",
   "name": "python",
   "nbconvert_exporter": "python",
   "pygments_lexer": "ipython3",
   "version": "3.12.4"
  }
 },
 "nbformat": 4,
 "nbformat_minor": 2
}
