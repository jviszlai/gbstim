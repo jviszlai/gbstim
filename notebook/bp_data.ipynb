{
 "cells": [
  {
   "cell_type": "code",
   "execution_count": 1,
   "metadata": {},
   "outputs": [],
   "source": [
    "from gbstim.bposd import BP\n",
    "from gbstim.gb import GBCode\n",
    "from gbstim.device import Device\n",
    "\n",
    "import pickle as pkl"
   ]
  },
  {
   "cell_type": "code",
   "execution_count": 2,
   "metadata": {},
   "outputs": [
    {
     "name": "stdout",
     "output_type": "stream",
     "text": [
      "[72, 12, 6]\n"
     ]
    }
   ],
   "source": [
    "l = 6\n",
    "m = 6\n",
    "device = Device((2*m, 2*l))\n",
    "code = GBCode(device, [(0, 2), (0, 1), (3, 0)], [(1, 0), (2, 0), (0, 3)], l, m)\n",
    "print(f'[{code.n}, {code.k}, {code.d}]')"
   ]
  },
  {
   "cell_type": "code",
   "execution_count": 3,
   "metadata": {},
   "outputs": [
    {
     "name": "stdout",
     "output_type": "stream",
     "text": [
      "Problem Name: ca203212426147dea6775475db11a80c\n",
      "Problem Type: TSP\n",
      "Number of Nodes: 13\n",
      "Rounded Euclidean Norm (CC_EUCLIDEAN)\n",
      "CCtsp_solve_dat ...\n",
      "Finding a good tour for compression ...\n",
      "linkern ...\n",
      "Starting Cycle: 259\n",
      "   0 Steps   Best: 258   0.00 seconds\n",
      "   6 Total Steps.\n",
      "Best cycle length: 258\n",
      "Lin-Kernighan Running Time: 0.00\n",
      "LK Initial Run: 258.0\n",
      "LK Run 0: 258.0\n",
      "LK Run from best tour: 258.0\n",
      "Time to find compression tour: 0.00 (seconds)\n",
      "Set initial upperbound to 258 (from tour)\n",
      "  LP Value  1: 223.000000  (0.00 seconds)\n",
      "  LP Value  2: 258.000000  (0.00 seconds)\n",
      "New lower bound: 258.000000\n",
      "Exact lower bound: 258.000000\n",
      "DIFF: 0.000000\n",
      "Established Bound: 258\n",
      "Optimal tour: 258\n",
      "Total Time to solve TSP: 0.00\n"
     ]
    }
   ],
   "source": [
    "circuit = code.stim_circ(1e-3, 1e-3, 1e-3, dec_type='Z', num_rounds=2*code.d)"
   ]
  },
  {
   "cell_type": "code",
   "execution_count": 4,
   "metadata": {},
   "outputs": [],
   "source": [
    "det_sampler = circuit.compile_detector_sampler()\n",
    "decoder = BP(max_iter=10_000, bp_method=\"ms\")\n",
    "compiled_decoder = decoder.compile_decoder_for_dem(circuit.detector_error_model())"
   ]
  },
  {
   "cell_type": "code",
   "execution_count": 5,
   "metadata": {},
   "outputs": [],
   "source": [
    "det_samples = det_sampler.sample_bit_packed(100_000)\n",
    "pkl.dump(det_samples, open(f'data/samples.pkl', 'wb'))"
   ]
  },
  {
   "cell_type": "code",
   "execution_count": 6,
   "metadata": {},
   "outputs": [],
   "source": [
    "# check_matrices.check_matrix = Mapping between circuit-level errors and detectors\n",
    "# check_matrices.priors = Circuit-level error probabilities used by decoder\n",
    "pkl.dump(compiled_decoder.check_matrices, open(f'data/check_matrices.pkl', 'wb'))"
   ]
  }
 ],
 "metadata": {
  "kernelspec": {
   "display_name": ".venv",
   "language": "python",
   "name": "python3"
  },
  "language_info": {
   "codemirror_mode": {
    "name": "ipython",
    "version": 3
   },
   "file_extension": ".py",
   "mimetype": "text/x-python",
   "name": "python",
   "nbconvert_exporter": "python",
   "pygments_lexer": "ipython3",
   "version": "3.12.9"
  }
 },
 "nbformat": 4,
 "nbformat_minor": 2
}
